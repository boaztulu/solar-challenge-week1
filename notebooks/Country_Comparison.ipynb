{
 "cells": [
  {
   "cell_type": "markdown",
   "metadata": {
    "id": "sv3vQGLrX7eZ"
   },
   "source": [
    "### 1. Data Loading\n",
    "We begin by loading and reading the cleaned CSVs for Benin, Sierra Leone, and Togo. Each dataset is tagged with the respective country name, and then concatenated into a single DataFrame.\n"
   ]
  },
  {
   "cell_type": "code",
   "execution_count": 1,
   "metadata": {
    "colab": {
     "base_uri": "https://localhost:8080/"
    },
    "id": "XWffYQVaYINd",
    "outputId": "0ee7643a-ad4d-4eff-dec0-d47f8ca2d35e"
   },
   "outputs": [
    {
     "data": {
      "text/html": [
       "<div>\n",
       "<style scoped>\n",
       "    .dataframe tbody tr th:only-of-type {\n",
       "        vertical-align: middle;\n",
       "    }\n",
       "\n",
       "    .dataframe tbody tr th {\n",
       "        vertical-align: top;\n",
       "    }\n",
       "\n",
       "    .dataframe thead th {\n",
       "        text-align: right;\n",
       "    }\n",
       "</style>\n",
       "<table border=\"1\" class=\"dataframe\">\n",
       "  <thead>\n",
       "    <tr style=\"text-align: right;\">\n",
       "      <th></th>\n",
       "      <th>Timestamp</th>\n",
       "      <th>GHI</th>\n",
       "      <th>DNI</th>\n",
       "      <th>DHI</th>\n",
       "      <th>ModA</th>\n",
       "      <th>ModB</th>\n",
       "      <th>Tamb</th>\n",
       "      <th>RH</th>\n",
       "      <th>WS</th>\n",
       "      <th>WSgust</th>\n",
       "      <th>WSstdev</th>\n",
       "      <th>WD</th>\n",
       "      <th>WDstdev</th>\n",
       "      <th>BP</th>\n",
       "      <th>Cleaning</th>\n",
       "      <th>Precipitation</th>\n",
       "      <th>TModA</th>\n",
       "      <th>TModB</th>\n",
       "      <th>country</th>\n",
       "      <th>Country</th>\n",
       "    </tr>\n",
       "  </thead>\n",
       "  <tbody>\n",
       "    <tr>\n",
       "      <th>0</th>\n",
       "      <td>2021-08-09 00:01:00</td>\n",
       "      <td>-1.2</td>\n",
       "      <td>-0.2</td>\n",
       "      <td>-1.1</td>\n",
       "      <td>0.0</td>\n",
       "      <td>0.0</td>\n",
       "      <td>26.2</td>\n",
       "      <td>93.4</td>\n",
       "      <td>0.0</td>\n",
       "      <td>0.4</td>\n",
       "      <td>0.1</td>\n",
       "      <td>122.1</td>\n",
       "      <td>0.0</td>\n",
       "      <td>998</td>\n",
       "      <td>0</td>\n",
       "      <td>0.0</td>\n",
       "      <td>26.3</td>\n",
       "      <td>26.2</td>\n",
       "      <td>benin</td>\n",
       "      <td>Benin</td>\n",
       "    </tr>\n",
       "    <tr>\n",
       "      <th>1</th>\n",
       "      <td>2021-08-09 00:02:00</td>\n",
       "      <td>-1.1</td>\n",
       "      <td>-0.2</td>\n",
       "      <td>-1.1</td>\n",
       "      <td>0.0</td>\n",
       "      <td>0.0</td>\n",
       "      <td>26.2</td>\n",
       "      <td>93.6</td>\n",
       "      <td>0.0</td>\n",
       "      <td>0.0</td>\n",
       "      <td>0.0</td>\n",
       "      <td>0.0</td>\n",
       "      <td>0.0</td>\n",
       "      <td>998</td>\n",
       "      <td>0</td>\n",
       "      <td>0.0</td>\n",
       "      <td>26.3</td>\n",
       "      <td>26.2</td>\n",
       "      <td>benin</td>\n",
       "      <td>Benin</td>\n",
       "    </tr>\n",
       "    <tr>\n",
       "      <th>2</th>\n",
       "      <td>2021-08-09 00:03:00</td>\n",
       "      <td>-1.1</td>\n",
       "      <td>-0.2</td>\n",
       "      <td>-1.1</td>\n",
       "      <td>0.0</td>\n",
       "      <td>0.0</td>\n",
       "      <td>26.2</td>\n",
       "      <td>93.7</td>\n",
       "      <td>0.3</td>\n",
       "      <td>1.1</td>\n",
       "      <td>0.5</td>\n",
       "      <td>124.6</td>\n",
       "      <td>1.5</td>\n",
       "      <td>997</td>\n",
       "      <td>0</td>\n",
       "      <td>0.0</td>\n",
       "      <td>26.4</td>\n",
       "      <td>26.2</td>\n",
       "      <td>benin</td>\n",
       "      <td>Benin</td>\n",
       "    </tr>\n",
       "    <tr>\n",
       "      <th>3</th>\n",
       "      <td>2021-08-09 00:04:00</td>\n",
       "      <td>-1.1</td>\n",
       "      <td>-0.1</td>\n",
       "      <td>-1.0</td>\n",
       "      <td>0.0</td>\n",
       "      <td>0.0</td>\n",
       "      <td>26.2</td>\n",
       "      <td>93.3</td>\n",
       "      <td>0.2</td>\n",
       "      <td>0.7</td>\n",
       "      <td>0.4</td>\n",
       "      <td>120.3</td>\n",
       "      <td>1.3</td>\n",
       "      <td>997</td>\n",
       "      <td>0</td>\n",
       "      <td>0.0</td>\n",
       "      <td>26.4</td>\n",
       "      <td>26.3</td>\n",
       "      <td>benin</td>\n",
       "      <td>Benin</td>\n",
       "    </tr>\n",
       "    <tr>\n",
       "      <th>4</th>\n",
       "      <td>2021-08-09 00:05:00</td>\n",
       "      <td>-1.0</td>\n",
       "      <td>-0.1</td>\n",
       "      <td>-1.0</td>\n",
       "      <td>0.0</td>\n",
       "      <td>0.0</td>\n",
       "      <td>26.2</td>\n",
       "      <td>93.3</td>\n",
       "      <td>0.1</td>\n",
       "      <td>0.7</td>\n",
       "      <td>0.3</td>\n",
       "      <td>113.2</td>\n",
       "      <td>1.0</td>\n",
       "      <td>997</td>\n",
       "      <td>0</td>\n",
       "      <td>0.0</td>\n",
       "      <td>26.4</td>\n",
       "      <td>26.3</td>\n",
       "      <td>benin</td>\n",
       "      <td>Benin</td>\n",
       "    </tr>\n",
       "  </tbody>\n",
       "</table>\n",
       "</div>"
      ],
      "text/plain": [
       "             Timestamp  GHI  DNI  DHI  ModA  ModB  Tamb    RH   WS  WSgust  \\\n",
       "0  2021-08-09 00:01:00 -1.2 -0.2 -1.1   0.0   0.0  26.2  93.4  0.0     0.4   \n",
       "1  2021-08-09 00:02:00 -1.1 -0.2 -1.1   0.0   0.0  26.2  93.6  0.0     0.0   \n",
       "2  2021-08-09 00:03:00 -1.1 -0.2 -1.1   0.0   0.0  26.2  93.7  0.3     1.1   \n",
       "3  2021-08-09 00:04:00 -1.1 -0.1 -1.0   0.0   0.0  26.2  93.3  0.2     0.7   \n",
       "4  2021-08-09 00:05:00 -1.0 -0.1 -1.0   0.0   0.0  26.2  93.3  0.1     0.7   \n",
       "\n",
       "   WSstdev     WD  WDstdev   BP  Cleaning  Precipitation  TModA  TModB  \\\n",
       "0      0.1  122.1      0.0  998         0            0.0   26.3   26.2   \n",
       "1      0.0    0.0      0.0  998         0            0.0   26.3   26.2   \n",
       "2      0.5  124.6      1.5  997         0            0.0   26.4   26.2   \n",
       "3      0.4  120.3      1.3  997         0            0.0   26.4   26.3   \n",
       "4      0.3  113.2      1.0  997         0            0.0   26.4   26.3   \n",
       "\n",
       "  country Country  \n",
       "0   benin   Benin  \n",
       "1   benin   Benin  \n",
       "2   benin   Benin  \n",
       "3   benin   Benin  \n",
       "4   benin   Benin  "
      ]
     },
     "execution_count": 1,
     "metadata": {},
     "output_type": "execute_result"
    }
   ],
   "source": [
    "import pandas as pd\n",
    "import numpy as np\n",
    "import matplotlib.pyplot as plt\n",
    "import seaborn as sns\n",
    "from scipy.stats import f_oneway, kruskal\n",
    "\n",
    "# Set a consistent style and figure size\n",
    "sns.set_style(\"whitegrid\")\n",
    "plt.rcParams[\"figure.figsize\"] = (10, 5)\n",
    "\n",
    "# Paths to cleaned datasets\n",
    "benin_path        = r\"C:\\Users\\btulu\\OneDrive - University of Florida\\Class\\UF_Class\\Summer_2025\\10Academy\\week0_projects\\solar-challenge-week1\\notebooks\\10 academy\\solar-challenge-week1\\data\\cleaned\\benin-clean.csv\"\n",
    "sierraleone_path  = r\"C:\\Users\\btulu\\OneDrive - University of Florida\\Class\\UF_Class\\Summer_2025\\10Academy\\week0_projects\\solar-challenge-week1\\notebooks\\10 academy\\solar-challenge-week1\\data\\cleaned\\sierraleone-clean.csv\"\n",
    "togo_path         = r\"C:\\Users\\btulu\\OneDrive - University of Florida\\Class\\UF_Class\\Summer_2025\\10Academy\\week0_projects\\solar-challenge-week1\\notebooks\\10 academy\\solar-challenge-week1\\data\\cleaned\\togo-clean.csv\"\n",
    "\n",
    "# Remove this line:\n",
    "# projects/10acadamy/week0/solar-challenge-week1/data/cleaned/benin-clean.csv\n",
    "\n",
    "# Load data\n",
    "data_benin_clean        = pd.read_csv(benin_path)\n",
    "data_sierraleone_clean = pd.read_csv(sierraleone_path)\n",
    "data_togo_clean         = pd.read_csv(togo_path)\n",
    "\n",
    "# Tag each dataset\n",
    "data_benin_clean['Country']         = 'Benin'\n",
    "data_sierraleone_clean['Country'] = 'Sierra Leone'\n",
    "data_togo_clean['Country']         = 'Togo'\n",
    "\n",
    "# Combine\n",
    "combined_df = pd.concat(\n",
    "    [data_benin_clean, data_sierraleone_clean, data_togo_clean],\n",
    "    ignore_index=True\n",
    ")\n",
    "\n",
    "# Display a sample\n",
    "combined_df.head()"
   ]
  },
  {
   "cell_type": "markdown",
   "metadata": {
    "colab": {
     "base_uri": "https://localhost:8080/",
     "height": 313
    },
    "id": "lWpCno3XYJVq",
    "outputId": "340cc9a7-23eb-4456-c5d1-72426866c57c"
   },
   "source": [
    "### 2. Boxplot Comparisons\n",
    "Now we create side-by-side boxplots for each country to visually compare the distributions of **GHI**, **DNI**, and **DHI**.\n"
   ]
  },
  {
   "cell_type": "code",
   "execution_count": 2,
   "metadata": {
    "colab": {
     "base_uri": "https://localhost:8080/",
     "height": 1000
    },
    "id": "F2_yWtQ6YJSl",
    "outputId": "e39dd9ce-f21d-4347-f18d-2f4ab154ffc6"
   },
   "outputs": [
    {
     "data": {
      "image/png": "[encoded data removed]",
      "text/plain": [
       "<Figure size 1500x500 with 3 Axes>"
      ]
     },
     "metadata": {},
     "output_type": "display_data"
    }
   ],
   "source": [
    "metrics = ['GHI', 'DNI', 'DHI']\n",
    "\n",
    "# Create subplots: one boxplot per metric\n",
    "fig, axes = plt.subplots(1, 3, figsize=(15, 5))\n",
    "plt.suptitle(\"Solar Irradiance Metrics by Country\", fontsize=16, y=1.02)\n",
    "\n",
    "for ax, metric in zip(axes, metrics):\n",
    "    sns.boxplot(\n",
    "        x='Country', \n",
    "        y=metric, \n",
    "        data=combined_df,\n",
    "        palette='Set2', \n",
    "        ax=ax\n",
    "    )\n",
    "    ax.set_title(f\"{metric} Comparison\")\n",
    "    ax.set_ylabel(f\"{metric} (W/m²)\")\n",
    "    ax.set_xlabel(\"\")\n",
    "\n",
    "plt.tight_layout()\n",
    "plt.show()\n"
   ]
  },
  {
   "cell_type": "markdown",
   "metadata": {
    "colab": {
     "base_uri": "https://localhost:8080/",
     "height": 206
    },
    "id": "oHtImZXNYJPx",
    "outputId": "4f6737ab-7639-4c37-8889-b7d53c503972"
   },
   "source": [
    "### 3. Summary Statistics Table\n",
    "Let's generate a table showing **mean**, **median**, and **standard deviation** of GHI, DNI, and DHI for each country.\n"
   ]
  },
  {
   "cell_type": "code",
   "execution_count": 3,
   "metadata": {
    "colab": {
     "base_uri": "https://localhost:8080/"
    },
    "id": "m8j7R0HBaIVs",
    "outputId": "21ae641d-2aa3-4753-aa2c-c13f898fab5d"
   },
   "outputs": [
    {
     "name": "stdout",
     "output_type": "stream",
     "text": [
      "=== Summary Statistics for GHI, DNI, DHI by Country ===\n",
      "\n"
     ]
    },
    {
     "data": {
      "text/html": [
       "<div>\n",
       "<style scoped>\n",
       "    .dataframe tbody tr th:only-of-type {\n",
       "        vertical-align: middle;\n",
       "    }\n",
       "\n",
       "    .dataframe tbody tr th {\n",
       "        vertical-align: top;\n",
       "    }\n",
       "\n",
       "    .dataframe thead tr th {\n",
       "        text-align: left;\n",
       "    }\n",
       "\n",
       "    .dataframe thead tr:last-of-type th {\n",
       "        text-align: right;\n",
       "    }\n",
       "</style>\n",
       "<table border=\"1\" class=\"dataframe\">\n",
       "  <thead>\n",
       "    <tr>\n",
       "      <th></th>\n",
       "      <th colspan=\"3\" halign=\"left\">GHI</th>\n",
       "      <th colspan=\"3\" halign=\"left\">DNI</th>\n",
       "      <th colspan=\"3\" halign=\"left\">DHI</th>\n",
       "    </tr>\n",
       "    <tr>\n",
       "      <th></th>\n",
       "      <th>mean</th>\n",
       "      <th>median</th>\n",
       "      <th>std</th>\n",
       "      <th>mean</th>\n",
       "      <th>median</th>\n",
       "      <th>std</th>\n",
       "      <th>mean</th>\n",
       "      <th>median</th>\n",
       "      <th>std</th>\n",
       "    </tr>\n",
       "    <tr>\n",
       "      <th>Country</th>\n",
       "      <th></th>\n",
       "      <th></th>\n",
       "      <th></th>\n",
       "      <th></th>\n",
       "      <th></th>\n",
       "      <th></th>\n",
       "      <th></th>\n",
       "      <th></th>\n",
       "      <th></th>\n",
       "    </tr>\n",
       "  </thead>\n",
       "  <tbody>\n",
       "    <tr>\n",
       "      <th>Benin</th>\n",
       "      <td>210.375742</td>\n",
       "      <td>-0.8</td>\n",
       "      <td>309.116533</td>\n",
       "      <td>145.272101</td>\n",
       "      <td>-0.2</td>\n",
       "      <td>238.624036</td>\n",
       "      <td>104.724605</td>\n",
       "      <td>-0.8</td>\n",
       "      <td>148.421625</td>\n",
       "    </tr>\n",
       "    <tr>\n",
       "      <th>Sierra Leone</th>\n",
       "      <td>79.259244</td>\n",
       "      <td>-0.9</td>\n",
       "      <td>154.344666</td>\n",
       "      <td>16.449936</td>\n",
       "      <td>-0.1</td>\n",
       "      <td>49.410779</td>\n",
       "      <td>69.624972</td>\n",
       "      <td>-1.3</td>\n",
       "      <td>134.728388</td>\n",
       "    </tr>\n",
       "    <tr>\n",
       "      <th>Togo</th>\n",
       "      <td>154.877592</td>\n",
       "      <td>-0.9</td>\n",
       "      <td>253.473052</td>\n",
       "      <td>86.305844</td>\n",
       "      <td>0.0</td>\n",
       "      <td>169.036017</td>\n",
       "      <td>96.090189</td>\n",
       "      <td>0.0</td>\n",
       "      <td>146.255114</td>\n",
       "    </tr>\n",
       "  </tbody>\n",
       "</table>\n",
       "</div>"
      ],
      "text/plain": [
       "                     GHI                            DNI                     \\\n",
       "                    mean median         std        mean median         std   \n",
       "Country                                                                      \n",
       "Benin         210.375742   -0.8  309.116533  145.272101   -0.2  238.624036   \n",
       "Sierra Leone   79.259244   -0.9  154.344666   16.449936   -0.1   49.410779   \n",
       "Togo          154.877592   -0.9  253.473052   86.305844    0.0  169.036017   \n",
       "\n",
       "                     DHI                     \n",
       "                    mean median         std  \n",
       "Country                                      \n",
       "Benin         104.724605   -0.8  148.421625  \n",
       "Sierra Leone   69.624972   -1.3  134.728388  \n",
       "Togo           96.090189    0.0  146.255114  "
      ]
     },
     "metadata": {},
     "output_type": "display_data"
    }
   ],
   "source": [
    "summary_table = (combined_df\n",
    "                 .groupby('Country')[metrics]\n",
    "                 .agg(['mean','median','std'])\n",
    "                )\n",
    "\n",
    "print(\"=== Summary Statistics for GHI, DNI, DHI by Country ===\\n\")\n",
    "display(summary_table)\n"
   ]
  },
  {
   "cell_type": "markdown",
   "metadata": {
    "colab": {
     "base_uri": "https://localhost:8080/",
     "height": 487
    },
    "id": "hLvOrqiVaass",
    "outputId": "ca9a13e2-17ac-4bed-ac29-5d73975fdc78"
   },
   "source": [
    "### 4. Statistical Testing\n",
    "We run both a **One-Way ANOVA** (if data are close to normally distributed) and a **Kruskal–Wallis** test (non-parametric) on GHI to see if there's a statistically significant difference among the three countries.\n"
   ]
  },
  {
   "cell_type": "code",
   "execution_count": 4,
   "metadata": {
    "id": "jFjoqn2mbSO3"
   },
   "outputs": [
    {
     "name": "stdout",
     "output_type": "stream",
     "text": [
      "=== Statistical Tests on GHI Across Countries ===\n",
      "One-way ANOVA p-value      : 0\n",
      "Kruskal-Wallis test p-value: 0\n"
     ]
    }
   ],
   "source": [
    "# Separate GHI data by country\n",
    "ghi_benin       = data_benin_clean['GHI']\n",
    "ghi_sierraleone = data_sierraleone_clean['GHI']\n",
    "ghi_togo        = data_togo_clean['GHI']\n",
    "\n",
    "# One-Way ANOVA\n",
    "anova_result = f_oneway(ghi_benin, ghi_sierraleone, ghi_togo)\n",
    "\n",
    "# Kruskal–Wallis\n",
    "kruskal_result = kruskal(ghi_benin, ghi_sierraleone, ghi_togo)\n",
    "\n",
    "# Print results\n",
    "print(\"=== Statistical Tests on GHI Across Countries ===\")\n",
    "print(f\"One-way ANOVA p-value      : {anova_result.pvalue:.4g}\")\n",
    "print(f\"Kruskal-Wallis test p-value: {kruskal_result.pvalue:.4g}\")\n"
   ]
  },
  {
   "cell_type": "code",
   "execution_count": null,
   "metadata": {},
   "outputs": [],
   "source": []
  },
  {
   "cell_type": "markdown",
   "metadata": {},
   "source": [
    "### 5. Key Observations\n",
    "1. **Overall Averages**: Based on the summary statistics, we see that one country typically has higher average GHI than the others.  \n",
    "2. **Variability**: The boxplots reveal that some countries have more spread in their irradiance (especially DNI or DHI) than others.  \n",
    "3. **Statistical Significance**: The p-values from the ANOVA/Kruskal–Wallis tests suggest whether the differences in GHI between the countries are statistically significant (p < 0.05 typically indicates significance).\n"
   ]
  },
  {
   "cell_type": "code",
   "execution_count": null,
   "metadata": {},
   "outputs": [],
   "source": []
  },
  {
   "cell_type": "markdown",
   "metadata": {},
   "source": [
    "### 6. Bar Chart: Countries Ranked by Average GHI\n",
    "Finally, we'll visualize which country has the highest average GHI, followed by the others. This helps quickly identify where solar potential might be strongest.\n"
   ]
  },
  {
   "cell_type": "code",
   "execution_count": null,
   "metadata": {},
   "outputs": [],
   "source": []
  },
  {
   "cell_type": "code",
   "execution_count": 5,
   "metadata": {},
   "outputs": [
    {
     "data": {
      "image/png": "[encoded data removed]",
      "text/plain": [
       "<Figure size 700x500 with 1 Axes>"
      ]
     },
     "metadata": {},
     "output_type": "display_data"
    }
   ],
   "source": [
    "avg_ghi = combined_df.groupby('Country')['GHI'].mean().sort_values(ascending=False)\n",
    "\n",
    "plt.figure(figsize=(7, 5))\n",
    "sns.barplot(x=avg_ghi.index, y=avg_ghi.values, palette='viridis')\n",
    "plt.title(\"Ranking of Countries by Average GHI\")\n",
    "plt.ylabel(\"Average GHI (W/m²)\")\n",
    "plt.xlabel(\"\")\n",
    "plt.grid(True)\n",
    "plt.show()\n"
   ]
  },
  {
   "cell_type": "code",
   "execution_count": null,
   "metadata": {},
   "outputs": [],
   "source": []
  }
 ],
 "metadata": {
  "colab": {
   "provenance": []
  },
  "kernelspec": {
   "display_name": "Python 3 (ipykernel)",
   "language": "python",
   "name": "python3"
  },
  "language_info": {
   "codemirror_mode": {
    "name": "ipython",
    "version": 3
   },
   "file_extension": ".py",
   "mimetype": "text/x-python",
   "name": "python",
   "nbconvert_exporter": "python",
   "pygments_lexer": "ipython3",
   "version": "3.11.8"
  }
 },
 "nbformat": 4,
 "nbformat_minor": 4
}
